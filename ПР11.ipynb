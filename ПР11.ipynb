{
  "nbformat": 4,
  "nbformat_minor": 0,
  "metadata": {
    "colab": {
      "name": "Untitled0.ipynb",
      "provenance": [],
      "authorship_tag": "ABX9TyO5ye2lChXlMoRYyde373Ri",
      "include_colab_link": true
    },
    "kernelspec": {
      "name": "python3",
      "display_name": "Python 3"
    },
    "language_info": {
      "name": "python"
    }
  },
  "cells": [
    {
      "cell_type": "markdown",
      "metadata": {
        "id": "view-in-github",
        "colab_type": "text"
      },
      "source": [
        "<a href=\"https://colab.research.google.com/github/warhogz/Proj_1sem_Khsasaev/blob/master/%D0%9F%D0%A011.ipynb\" target=\"_parent\"><img src=\"https://colab.research.google.com/assets/colab-badge.svg\" alt=\"Open In Colab\"/></a>"
      ]
    },
    {
      "cell_type": "markdown",
      "source": [
        "Практическая работа №3"
      ],
      "metadata": {
        "id": "ASntvmtTcUoo"
      }
    },
    {
      "cell_type": "code",
      "source": [
        "#Даны числа x, у. Проверить истинность высказывания: «Точка с координатами (x, у) лежит\n",
        "#во второй или третьей координатной четверти».\n",
        "try:\n",
        "    print(\"Введите координаты точки x и y\")\n",
        "    x_point = float(input(\"x = \"))\n",
        "    y_point = float(input(\"y = \"))\n",
        "\n",
        "    if x_point < 0:\n",
        "        print('true')\n",
        "    else:\n",
        "        print(\"false\")\n",
        "except ValueError: #обработка исключений\n",
        "    print(\"Введите число!\")"
      ],
      "metadata": {
        "colab": {
          "base_uri": "https://localhost:8080/"
        },
        "id": "UkbC8vTVbFdD",
        "outputId": "8eaa865c-1ff8-4e63-dca2-400f80612b39"
      },
      "execution_count": 2,
      "outputs": [
        {
          "output_type": "stream",
          "name": "stdout",
          "text": [
            "Введите координаты точки x и y\n",
            "x = 21 \n",
            "y = 23\n",
            "false\n"
          ]
        }
      ]
    },
    {
      "cell_type": "markdown",
      "source": [
        "Практическая работа №3.2"
      ],
      "metadata": {
        "id": "8VQFiyV-canz"
      }
    },
    {
      "cell_type": "code",
      "source": [
        "#Даны числа x, у. Проверить истинность высказывания: «Точка с координатами (x, у) лежит\n",
        "#во второй или третьей координатной четверти».\n",
        "try:\n",
        "    print(\"Введите координаты точки x и y\")\n",
        "    x_point = float(input(\"x = \"))\n",
        "    y_point = float(input(\"y = \"))\n",
        "\n",
        "    if x_point < 0:\n",
        "        print('true')\n",
        "    else:\n",
        "        print(\"false\")\n",
        "except ValueError: #обработка исключений\n",
        "    print(\"Введите число!\")"
      ],
      "metadata": {
        "colab": {
          "base_uri": "https://localhost:8080/"
        },
        "id": "mgzgFIYHbvBJ",
        "outputId": "1298fa43-9440-4496-8487-d8dcf4faa40c"
      },
      "execution_count": 3,
      "outputs": [
        {
          "output_type": "stream",
          "name": "stdout",
          "text": [
            "Введите координаты точки x и y\n",
            "x = 21\n",
            "y = 32\n",
            "false\n"
          ]
        }
      ]
    },
    {
      "cell_type": "markdown",
      "source": [
        "Практическая работа №4"
      ],
      "metadata": {
        "id": "LY26CdmGciGn"
      }
    },
    {
      "cell_type": "code",
      "source": [
        "#Дано целое число N (>0). Найти сумму 1 + 1/2 + 1/3 + ... + 1/N\n",
        "\n",
        "val = input(\"Введите целое число: \")\n",
        "while type(val) != int: #обработчик условий\n",
        "    try:\n",
        "         val = int(val)\n",
        "         if val < 0:\n",
        "             print('Введите положительное число! ')\n",
        "             val = input('Введите число: ')\n",
        "    except ValueError:\n",
        "        print('Введите число!')\n",
        "        val = input('Введите число: ')\n",
        "\n",
        "i = 1\n",
        "n = 1\n",
        "s = 0\n",
        "while i != val + 1:\n",
        "    s += 1/i\n",
        "    i += 1\n",
        "print(s)"
      ],
      "metadata": {
        "colab": {
          "base_uri": "https://localhost:8080/"
        },
        "id": "bo29P9nobv8Y",
        "outputId": "48b7f266-18b5-42da-d828-442c35f02f7d"
      },
      "execution_count": 4,
      "outputs": [
        {
          "output_type": "stream",
          "name": "stdout",
          "text": [
            "Введите целое число: 23\n",
            "3.73429151108684\n"
          ]
        }
      ]
    },
    {
      "cell_type": "markdown",
      "source": [
        "Практическая работа №4.2"
      ],
      "metadata": {
        "id": "xvyAikIXcj_n"
      }
    },
    {
      "cell_type": "code",
      "source": [
        "#Дано целое число N (> 1). Вывести наименьшее из целых чисел K, для\n",
        "#которых сумма 1 + 2 + . . . + K будет больше или равна N, и саму эту сумму.\n",
        "\n",
        "n = input('Введите целое число больше единицы: ')\n",
        "while type(n) != int: #обработчик условий\n",
        "    try:\n",
        "        n = int(n)\n",
        "        if n < 1:\n",
        "            print('Введите число больше единицы! ')\n",
        "            n = input('Введите число: ')\n",
        "    except ValueError:\n",
        "        print('Введите целое число!')\n",
        "        n = input('Введите число: ')\n",
        "\n",
        "\n",
        "k = 0\n",
        "s = 0\n",
        "while s < n:\n",
        "    s +=k\n",
        "    if s < n:\n",
        "        k += 1\n",
        "    if s>=n:\n",
        "        print('Сумма равна: {}'.format(s))\n",
        "        print('Последнее число ряда: {}'.format(k))"
      ],
      "metadata": {
        "colab": {
          "base_uri": "https://localhost:8080/"
        },
        "id": "UsaJK00qb2hY",
        "outputId": "aa2aa244-f9c5-483a-9403-c50fd4d2b7b3"
      },
      "execution_count": 5,
      "outputs": [
        {
          "output_type": "stream",
          "name": "stdout",
          "text": [
            "Введите целое число больше единицы: 32\n",
            "Сумма равна: 36\n",
            "Последнее число ряда: 8\n"
          ]
        }
      ]
    },
    {
      "cell_type": "markdown",
      "source": [
        "Практическая работа №5"
      ],
      "metadata": {
        "id": "yJHD4slecmKn"
      }
    },
    {
      "cell_type": "code",
      "source": [
        "#Составить функцию, генеирующую четырехзначное число и определяющую, есть ли в числе одинаковые числа.\n",
        "\n",
        "def generator(a, b, c, d):                                 # реализация функции-генератора\n",
        "    number = str(a) + str(b) + str(c) + str(d)\n",
        "    if (a == b) or (a == c) or (a == d ) or (b == c) or (b == d) or (c == d):\n",
        "        ravenstvo = 'В Вашем числе есть одинаковые цифры'\n",
        "    else:\n",
        "        ravenstvo = 'В Вашем числе нет одинаковых цифр'\n",
        "    print('Ваше число:  ', number)\n",
        "    print(ravenstvo)\n",
        "\n",
        "\n",
        "num1 = int(input('Введите первую цифру  '))\n",
        "num2 = int(input('Введите вторую цифру  '))\n",
        "num3 = int(input('Введите третью цифру  '))\n",
        "num4 = int(input('Введите четвертую цифру  '))\n",
        "\n",
        "\n",
        "generator(num1, num2, num3, num4)                         # использование функции от введенных данных"
      ],
      "metadata": {
        "colab": {
          "base_uri": "https://localhost:8080/"
        },
        "id": "3PRfU7ftb80A",
        "outputId": "4387aebb-42a3-4575-a952-53b273c770c7"
      },
      "execution_count": 6,
      "outputs": [
        {
          "output_type": "stream",
          "name": "stdout",
          "text": [
            "Введите первую цифру  4\n",
            "Введите вторую цифру  5\n",
            "Введите третью цифру  2\n",
            "Введите четвертую цифру  6\n",
            "Ваше число:   4526\n",
            "В Вашем числе нет одинаковых цифр\n"
          ]
        }
      ]
    },
    {
      "cell_type": "markdown",
      "source": [
        "Практическая работа №5.2"
      ],
      "metadata": {
        "id": "mdgYS3jhcn6u"
      }
    },
    {
      "cell_type": "code",
      "source": [
        "#Описать функцию AddRightDigit(D, K), добавляющую к целому положительному числу K\n",
        "#справа цифру D (D - входной параметр целого типа, лежащий в диапазоне 0-9\n",
        "#K - параметр целого типа, являющийся одновременно входным и выходным).\n",
        "#С помощью этой функции последовательно дообавить к данному числу K справа\n",
        "#данные цифры D1 и D2, выводя результат каждого добавления.\n",
        "\n",
        "def add_right_digit(d, k):  #функция приписания числа справа\n",
        "    s = d * 10 + k\n",
        "    return s  #возвращаем результат\n",
        "\n",
        "\n",
        "a = int(input('Введите K: '))\n",
        "d1 = int(input('Введите D1: '))\n",
        "a = add_right_digit(a, d1)  #заносим в переменную результат первого шага\n",
        "print(a)\n",
        "d2 = int(input('Введите D2: '))\n",
        "print(add_right_digit(a, d2))  #приписываем справа к полученному результату введённое число"
      ],
      "metadata": {
        "colab": {
          "base_uri": "https://localhost:8080/"
        },
        "id": "twsU-t-db-NQ",
        "outputId": "11f27325-a3f0-43ec-f451-1674936e3a93"
      },
      "execution_count": 7,
      "outputs": [
        {
          "output_type": "stream",
          "name": "stdout",
          "text": [
            "Введите K: 23\n",
            "Введите D1: 32\n",
            "262\n",
            "Введите D2: 12\n",
            "2632\n"
          ]
        }
      ]
    }
  ]
}